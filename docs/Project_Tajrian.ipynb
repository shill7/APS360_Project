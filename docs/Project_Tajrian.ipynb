{
  "nbformat": 4,
  "nbformat_minor": 0,
  "metadata": {
    "colab": {
      "provenance": [],
      "gpuType": "T4",
      "include_colab_link": true
    },
    "kernelspec": {
      "name": "python3",
      "display_name": "Python 3"
    },
    "language_info": {
      "name": "python"
    },
    "accelerator": "GPU"
  },
  "cells": [
    {
      "cell_type": "markdown",
      "metadata": {
        "id": "view-in-github",
        "colab_type": "text"
      },
      "source": [
        "<a href=\"https://colab.research.google.com/github/shill7/APS360_Project/blob/main/Project_Tajrian.ipynb\" target=\"_parent\"><img src=\"https://colab.research.google.com/assets/colab-badge.svg\" alt=\"Open In Colab\"/></a>"
      ]
    },
    {
      "cell_type": "code",
      "source": [
        "%pip install contractions\n",
        "%pip install datasketch"
      ],
      "metadata": {
        "id": "81a7a-Ji2-Bu",
        "colab": {
          "base_uri": "https://localhost:8080/"
        },
        "outputId": "e0fb4d51-f49b-4cb5-e9bb-319265057301"
      },
      "execution_count": null,
      "outputs": [
        {
          "output_type": "stream",
          "name": "stdout",
          "text": [
            "Collecting contractions\n",
            "  Downloading contractions-0.1.73-py2.py3-none-any.whl.metadata (1.2 kB)\n",
            "Collecting textsearch>=0.0.21 (from contractions)\n",
            "  Downloading textsearch-0.0.24-py2.py3-none-any.whl.metadata (1.2 kB)\n",
            "Collecting anyascii (from textsearch>=0.0.21->contractions)\n",
            "  Downloading anyascii-0.3.3-py3-none-any.whl.metadata (1.6 kB)\n",
            "Collecting pyahocorasick (from textsearch>=0.0.21->contractions)\n",
            "  Downloading pyahocorasick-2.2.0-cp311-cp311-manylinux_2_17_x86_64.manylinux2014_x86_64.whl.metadata (13 kB)\n",
            "Downloading contractions-0.1.73-py2.py3-none-any.whl (8.7 kB)\n",
            "Downloading textsearch-0.0.24-py2.py3-none-any.whl (7.6 kB)\n",
            "Downloading anyascii-0.3.3-py3-none-any.whl (345 kB)\n",
            "\u001b[2K   \u001b[90m━━━━━━━━━━━━━━━━━━━━━━━━━━━━━━━━━━━━━━━━\u001b[0m \u001b[32m345.1/345.1 kB\u001b[0m \u001b[31m12.2 MB/s\u001b[0m eta \u001b[36m0:00:00\u001b[0m\n",
            "\u001b[?25hDownloading pyahocorasick-2.2.0-cp311-cp311-manylinux_2_17_x86_64.manylinux2014_x86_64.whl (113 kB)\n",
            "\u001b[2K   \u001b[90m━━━━━━━━━━━━━━━━━━━━━━━━━━━━━━━━━━━━━━━━\u001b[0m \u001b[32m113.9/113.9 kB\u001b[0m \u001b[31m13.4 MB/s\u001b[0m eta \u001b[36m0:00:00\u001b[0m\n",
            "\u001b[?25hInstalling collected packages: pyahocorasick, anyascii, textsearch, contractions\n",
            "Successfully installed anyascii-0.3.3 contractions-0.1.73 pyahocorasick-2.2.0 textsearch-0.0.24\n",
            "Collecting datasketch\n",
            "  Downloading datasketch-1.6.5-py3-none-any.whl.metadata (5.8 kB)\n",
            "Requirement already satisfied: numpy>=1.11 in /usr/local/lib/python3.11/dist-packages (from datasketch) (2.0.2)\n",
            "Requirement already satisfied: scipy>=1.0.0 in /usr/local/lib/python3.11/dist-packages (from datasketch) (1.15.3)\n",
            "Downloading datasketch-1.6.5-py3-none-any.whl (89 kB)\n",
            "\u001b[2K   \u001b[90m━━━━━━━━━━━━━━━━━━━━━━━━━━━━━━━━━━━━━━━━\u001b[0m \u001b[32m89.2/89.2 kB\u001b[0m \u001b[31m3.9 MB/s\u001b[0m eta \u001b[36m0:00:00\u001b[0m\n",
            "\u001b[?25hInstalling collected packages: datasketch\n",
            "Successfully installed datasketch-1.6.5\n"
          ]
        }
      ]
    },
    {
      "cell_type": "code",
      "execution_count": null,
      "metadata": {
        "id": "bhPQPOBYCsfq"
      },
      "outputs": [],
      "source": [
        "import sklearn\n",
        "from sklearn import svm\n",
        "from sklearn.svm import SVC\n",
        "from sklearn.metrics import classification_report\n",
        "\n",
        "import matplotlib.pyplot as plt\n",
        "from PIL import Image\n",
        "import urllib.request\n",
        "import numpy as np\n",
        "import time\n",
        "import os\n",
        "import torch\n",
        "import torch.nn as nn\n",
        "import torch.nn.functional as F\n",
        "import torch.optim as optim\n",
        "import torchvision\n",
        "from torch.utils.data.sampler import SubsetRandomSampler\n",
        "import torchvision.transforms as transforms\n",
        "import random\n",
        "from sklearn.model_selection import train_test_split\n",
        "import shutil\n",
        "\n",
        "import pandas as pd\n",
        "import contractions\n",
        "import re\n",
        "import nltk\n",
        "from nltk.tokenize import word_tokenize\n",
        "from datasketch import MinHash, MinHashLSH\n",
        "from sklearn.preprocessing import StandardScaler"
      ]
    },
    {
      "cell_type": "code",
      "source": [
        "from google.colab import drive\n",
        "drive.mount('/content/drive')"
      ],
      "metadata": {
        "id": "YFvD7bImYcrK",
        "colab": {
          "base_uri": "https://localhost:8080/"
        },
        "outputId": "c973dc86-c216-4a86-e637-352bba829cc8"
      },
      "execution_count": null,
      "outputs": [
        {
          "output_type": "stream",
          "name": "stdout",
          "text": [
            "Mounted at /content/drive\n"
          ]
        }
      ]
    },
    {
      "cell_type": "code",
      "source": [
        "nltk.download('punkt')\n",
        "nltk.download('punkt_tab')\n",
        "nltk.download('stopwords')\n",
        "nltk.download('wordnet')"
      ],
      "metadata": {
        "id": "84ijL9bL2_W2",
        "colab": {
          "base_uri": "https://localhost:8080/"
        },
        "outputId": "d1e0133d-8194-443c-9465-4d80d7a7a036"
      },
      "execution_count": null,
      "outputs": [
        {
          "output_type": "stream",
          "name": "stderr",
          "text": [
            "[nltk_data] Downloading package punkt to /root/nltk_data...\n",
            "[nltk_data]   Unzipping tokenizers/punkt.zip.\n",
            "[nltk_data] Downloading package punkt_tab to /root/nltk_data...\n",
            "[nltk_data]   Unzipping tokenizers/punkt_tab.zip.\n",
            "[nltk_data] Downloading package stopwords to /root/nltk_data...\n",
            "[nltk_data]   Unzipping corpora/stopwords.zip.\n",
            "[nltk_data] Downloading package wordnet to /root/nltk_data...\n"
          ]
        },
        {
          "output_type": "execute_result",
          "data": {
            "text/plain": [
              "True"
            ]
          },
          "metadata": {},
          "execution_count": 5
        }
      ]
    },
    {
      "cell_type": "markdown",
      "source": [
        "## **Preprocessing and Splitting Dataset**"
      ],
      "metadata": {
        "id": "OJgVE-aOYd8S"
      }
    },
    {
      "cell_type": "code",
      "source": [
        "#--------- Splitting the data ------------\n",
        "data_path = '/content/drive/SharedDrive/APS360 - Project/Data' # Different for everyone\n",
        "# splitDataset(data_path)"
      ],
      "metadata": {
        "id": "IrdBqKbSMh6b"
      },
      "execution_count": null,
      "outputs": []
    },
    {
      "cell_type": "markdown",
      "source": [
        "## **Extracting Features**\n"
      ],
      "metadata": {
        "id": "VnrDaMKKZm7S"
      }
    },
    {
      "cell_type": "code",
      "source": [
        "def extractFeatures(text):\n",
        "  sentences = nltk.sent_tokenize(text)\n",
        "  words_characters = nltk.word_tokenize(text)\n",
        "  words = [word for word in words_characters if word.isalpha()]\n",
        "  stop_words = set(nltk.corpus.stopwords.words('english'))\n",
        "\n",
        "  # Features\n",
        "  # 1. Average sentence length\n",
        "  total_words = 0\n",
        "  for s in sentences:\n",
        "    total_words += len(word_tokenize(s))\n",
        "  avg_sentence_length = total_words / len(sentences)\n",
        "\n",
        "  # 2. Average word length\n",
        "  total_characters = 0\n",
        "  for w in words:\n",
        "    total_characters += len(w)\n",
        "  avg_word_length = total_characters / len(words)\n",
        "\n",
        "  # 3. Stopword ratio\n",
        "  stopword_ratio = len([w for w in words if w in stop_words]) / len(words)\n",
        "\n",
        "  # 4. Lexical diversity\n",
        "  lexical_diversity = len(set(words)) / len(words)\n",
        "\n",
        "  return np.array([avg_sentence_length, avg_word_length, stopword_ratio, lexical_diversity], dtype=np.float32)"
      ],
      "metadata": {
        "id": "QyeBZYM9GA2R"
      },
      "execution_count": null,
      "outputs": []
    },
    {
      "cell_type": "code",
      "source": [],
      "metadata": {
        "id": "30B7kKg9ZbXy"
      },
      "execution_count": null,
      "outputs": []
    },
    {
      "cell_type": "code",
      "source": [
        "#MLPS Coding\n",
        "#Mix of transformers and Bert\n",
        "\n",
        "\n",
        "#First need to do feature extractions on the training dataset\n",
        "#I need to apply BERT embeddings\n",
        "#Can later add on things like TF-IDF in the project\n",
        "\n",
        "\n",
        "#Maybe mix in transformers\n",
        "\n",
        "#Structure and MLP\n",
        "# MLP models kind of look like CNN\n",
        "\n",
        "\n",
        "#To use MLPs and BERT\n",
        "\n",
        "#Save the weights using BERT\n",
        "\n",
        "\n"
      ],
      "metadata": {
        "id": "Z15HCFF3paSY"
      },
      "execution_count": null,
      "outputs": []
    },
    {
      "cell_type": "code",
      "source": [
        "import numpy as np\n",
        "from transformers import BertTokenizer, BertModel\n",
        "import torch\n",
        "from torch.utils.data import DataLoader\n",
        "import pandas as pd"
      ],
      "metadata": {
        "id": "E99gQrXpJrQR"
      },
      "execution_count": null,
      "outputs": []
    },
    {
      "cell_type": "code",
      "source": [
        "#File path name\n",
        "import os\n",
        "data_path = '/content/drive/MyDrive/APS360/'\n",
        "\n",
        "df_ai = pd.read_csv(data_path + \"ai_train.csv\")\n"
      ],
      "metadata": {
        "id": "7HEPBF0hgb9w"
      },
      "execution_count": null,
      "outputs": []
    },
    {
      "cell_type": "code",
      "source": [
        "df_human = pd.read_csv(data_path + \"human_train.csv\")\n",
        "df_val_ai = pd.read_csv(data_path + \"ai_val.csv\")\n",
        "df_val_human = pd.read_csv(data_path + \"human_val.csv\")"
      ],
      "metadata": {
        "id": "Ph8AiKHzzfWb"
      },
      "execution_count": null,
      "outputs": []
    },
    {
      "cell_type": "code",
      "source": [
        "#Cell for preparing the data for testing, val, and train\n",
        "#This will be passed into for our feat extrac\n",
        "#Two separate csv files\n",
        "#For training\n",
        "#Need to give file path name\n",
        "# 1=AI\n",
        "# 0=HUMAN\n",
        "df_ai[\"label\"] = 1\n",
        "df_human[\"label\"] = 0 # Humans are 0 and we assume positive is for AI detection\n",
        "\n",
        "#For validation\n",
        "df_val_ai[\"label\"] = 1\n",
        "df_val_human[\"label\"] = 0\n",
        "\n",
        "#For testing, need to convert as cannot read .csv\n",
        "\n",
        "\n",
        "\n",
        "\n"
      ],
      "metadata": {
        "id": "NZcbn0yyZVEr"
      },
      "execution_count": null,
      "outputs": []
    },
    {
      "cell_type": "code",
      "source": [
        "print(df_human.columns)\n",
        "print(df_ai.columns)"
      ],
      "metadata": {
        "colab": {
          "base_uri": "https://localhost:8080/"
        },
        "id": "2KjZgfCtbH95",
        "outputId": "5870edda-a47c-47c8-ee66-d4a4718296e7"
      },
      "execution_count": null,
      "outputs": [
        {
          "output_type": "stream",
          "name": "stdout",
          "text": [
            "Index(['text_clean', 'label'], dtype='object')\n",
            "Index(['text_clean', 'label'], dtype='object')\n"
          ]
        }
      ]
    },
    {
      "cell_type": "code",
      "source": [
        "\n",
        "#DON'T RUN THIS CELL\n",
        "#Run this cell only once to extract features and store into a file somewhere else\n",
        "#Fix this and then we can start training\n",
        "\n",
        "#To start evaluating and also to ensure that the features are being properly leanred\n",
        "#Turns off dropout\n",
        "\n",
        "\n",
        "#Need to run this on validation and training\n",
        "\n",
        "#Make this into a function and can be called for each one\n",
        "\n",
        "\n",
        "def featuresBERT(text):\n",
        "  bert_model.eval()\n",
        "  textIn = text#Fill this line with the text data from .csv files\n",
        "\n",
        "  #Store the features learned in an array\n",
        "  #Keeping constant size means padding is good\n",
        "  features = []\n",
        "  #This is done for all the text we have and it basically is going to traverse through the strings of text\n",
        "  for textCount in textIn\n",
        "    #truncation is used so any input above max_length doesn't give us an error\n",
        "    #pt ensures we use pyTorch and not TensorFlow\n",
        "      inputConverted = tokenizer(textCount, return_tensors='pt',padding= TRUE, truncation=TRUE, max_length=512)\n",
        "      with torch.no_grad():\n",
        "        outt= bert_model(**inputConverted)\n",
        "        #Getting ready to save proper format of data into our MLPs\n",
        "      cls_tok_embed= outt.last_hidden_state[ :, 0, : ]\n",
        "      features.append(cls_tok_embed.squeeze().numpy())\n",
        "      #Now we need to save this data into a folder and our features are extracted and can be later used in\n",
        "\n",
        "return features\n",
        "\n",
        "\n",
        "\n",
        "\n",
        "\n",
        "\n",
        "\n"
      ],
      "metadata": {
        "id": "znx9XOYfCfYi"
      },
      "execution_count": null,
      "outputs": []
    },
    {
      "cell_type": "code",
      "source": [
        "\n",
        "path_save_feats_BERT = '/content/drive/Shared Drive/UofT/APS360 - Project/Data/variables'\n",
        "\n",
        "tokenizer= BertTokenizer.from_pretrained('bert-base-uncased')\n",
        "bert_model = BertModel.from_pretrained('bert-base-uncased')\n",
        "\n",
        "def featuresBERT(text_list):\n",
        "    bert_model.eval()  # Set model to evaluation mode\n",
        "\n",
        "    features = []\n",
        "\n",
        "    for text in text_list:\n",
        "        # Tokenize and convert to PyTorch tensors\n",
        "        inputConverted = tokenizer(text, return_tensors='pt', padding=True, truncation=True, max_length=512)\n",
        "\n",
        "        with torch.no_grad():\n",
        "          #kwargs and\n",
        "            outt = bert_model(**inputConverted)\n",
        "\n",
        "        #Getting the embedding CLS so our output is 768, the standard size for input for MLP\n",
        "        cls_tok_embed = outt.last_hidden_state[:, 0, :]\n",
        "        features.append(cls_tok_embed.squeeze().numpy())\n",
        "\n",
        "    return features"
      ],
      "metadata": {
        "id": "-qhZuvOb2s4G"
      },
      "execution_count": null,
      "outputs": []
    },
    {
      "cell_type": "code",
      "source": [
        "from torch.utils.data import DataLoader\n",
        "#Helps us see our progress because feature extraction takes a very long time\n",
        "from tqdm import tqdm\n",
        "import torch\n",
        "#GPU training is more fast\n",
        "device = torch.device(\"cuda\" if torch.cuda.is_available() else \"cpu\")\n",
        "bert_model.to(device)\n",
        "bert_model.eval()\n",
        "#This is practically the same function as above but incorporates batching and\n",
        "# GPU to run as sample size is big\n",
        "def featuresBERTFast(text_list, batch_size=32):\n",
        "    features = []\n",
        "    #Need to split inot batches for fast\n",
        "    dataloader = DataLoader(text_list, batch_size=batch_size)\n",
        "\n",
        "    for batch in tqdm(dataloader):\n",
        "        # Tokenize and move to GPU\n",
        "        #pt is for pytorch\n",
        "        #Makes sure we aren't using TensorFlow and using oyTorch instead for machine learning\n",
        "        #Truncate is to make sure that if anyhting does go above size, it is still able to run and truncate makes smaller\n",
        "        #padding is good for maintaining size we also do need all outputs to maintain the same size like token IDs or tensors\n",
        "        #Better for input of MLP as that is important to have same size input\n",
        "        #max lenfth being 512 is for relatively big size but even if samples are bigger, at least there is truncate\n",
        "        inputs = tokenizer(batch, return_tensors='pt', padding=True, truncation=True, max_length=512)\n",
        "        #Need for GPU and fast train\n",
        "        inputs = {i: t.to(device) for i, t in inputs.items()}\n",
        "\n",
        "        with torch.no_grad():\n",
        "            outt = bert_model(**inputs)\n",
        "\n",
        "        cls_embeddings = outt.last_hidden_state[:, 0, :]  #\n",
        "        features.extend(cls_embeddings.cpu().numpy())  #convert into our Numpy arrays which can be converted into tensors\n",
        "\n",
        "    return features\n"
      ],
      "metadata": {
        "id": "qSvZDVm4h9K8"
      },
      "execution_count": null,
      "outputs": []
    },
    {
      "cell_type": "code",
      "source": [
        "#DON\"T RUN\n",
        "#TRAININING FEATURES DONEEEEE\n",
        "#Can Run this for the extractions because can only run the above code ONCE\n",
        "\n",
        "#We want to combine our csv files so one train file and one val file\n",
        "#We are concatentaing both the files\n",
        "#Run code only once NO MORE RUNN\n",
        "\n",
        "#ignore index is necessary as we will shuffle our data so not all AI and all Hu\n",
        "#Are grouped together,  we randomized order a bit\n",
        "#That is why it is better not to have anything ordered at least not yet\n",
        "\n",
        "df_train = pd.concat([df_ai, df_human], ignore_index=True)\n",
        "df_val = pd.concat([df_val_ai, df_val_human], ignore_index=True)\n",
        "\n",
        "# Shuffle so it is random within their files\n",
        "df_train = df_train.sample(frac=1).reset_index(drop=True)\n",
        "df_val = df_val.sample(frac=1).reset_index(drop=True)\n",
        "\n",
        "#train_features = featuresBERTFast(df_train[\"text_clean\"].tolist())\n",
        "train_features = featuresBERTFast(df_train[\"text_clean\"].tolist(), batch_size=32)\n",
        "\n",
        "\n",
        "\n",
        "# Save features and labels\n",
        "np.save(data_path+\"train_bert_features.npy\", train_features)\n",
        "np.save(data_path+\"train_labels.npy\", df_train[\"label\"].values)\n",
        "\n"
      ],
      "metadata": {
        "id": "39tLOXkaUY17",
        "colab": {
          "base_uri": "https://localhost:8080/"
        },
        "outputId": "2d702cb3-7ac1-4a28-fced-de74429f2e16"
      },
      "execution_count": null,
      "outputs": [
        {
          "output_type": "stream",
          "name": "stderr",
          "text": [
            "100%|██████████| 2760/2760 [57:54<00:00,  1.26s/it]\n"
          ]
        }
      ]
    },
    {
      "cell_type": "code",
      "source": [
        "#DON'T RUNNNNNN\n",
        "\n",
        "\n",
        "val_features = featuresBERTFast(df_val[\"text_clean\"].tolist())\n",
        "np.save(data_path + \"val_bert_features.npy\", val_features)\n",
        "np.save(data_path + \"val_labels.npy\", df_val[\"label\"].values)"
      ],
      "metadata": {
        "colab": {
          "base_uri": "https://localhost:8080/"
        },
        "id": "aU81SHGkfrcU",
        "outputId": "8ffcc4fe-9805-44ed-e9fb-a8399ea8ee31"
      },
      "execution_count": null,
      "outputs": [
        {
          "output_type": "stream",
          "name": "stderr",
          "text": [
            "100%|██████████| 592/592 [12:45<00:00,  1.29s/it]\n"
          ]
        }
      ]
    },
    {
      "cell_type": "code",
      "source": [
        "class MLP(nn.Module):\n",
        "    def __init__(self, hidden_dim=256):\n",
        "        super(MLP, self).__init__()\n",
        "        self.fc1 = nn.Linear(768, 256)   # input from BERT CLS, using Bert gave us the constant input of the vectoore being 768\n",
        "        self.fc2 = nn.Linear(256, 64)\n",
        "        self.fc3 = nn.Linear(64, 2)     #2 classes one for human other for AI\n",
        "\n",
        "    def forward(self, x):\n",
        "        x = F.relu(self.fc1(x))\n",
        "        x = F.relu(self.fc2(x))\n",
        "        x = self.fc3(x)\n",
        "        return x"
      ],
      "metadata": {
        "id": "ZCeEiSwlIzZp"
      },
      "execution_count": null,
      "outputs": []
    },
    {
      "cell_type": "code",
      "source": [],
      "metadata": {
        "id": "IMxG6ahd7QHJ"
      },
      "execution_count": null,
      "outputs": []
    },
    {
      "cell_type": "code",
      "source": [
        "#Model Training\n",
        "#Have two different csv files for training AI and training Human\n",
        "\n",
        "#Similar to lab code but we need to make some adjustments\n",
        "\n",
        "def train(model, dataTrain, dataVal, batch_size=64, num_epochs=30):\n",
        "    train_loader = torch.utils.data.DataLoader(dataTrain, batch_size=batch_size)\n",
        "    val_loader = torch.utils.data.DataLoader(dataVal, batch_size=batch_size)\n",
        "    criterion = nn.CrossEntropyLoss()\n",
        "    optimizer = optim.SGD(model.parameters(), lr=0.01, momentum=0.9)\n",
        "\n",
        "    iters, losses, train_acc, val_acc = [], [], [], []\n",
        "\n",
        "    # training\n",
        "    n = 0 # the number of iterations\n",
        "    for epoch in range(num_epochs):\n",
        "        for imgs, labels in iter(train_loader):\n",
        "\n",
        "            out = model(imgs)             # forward pass\n",
        "\n",
        "            loss = criterion(out, labels) # compute the total loss\n",
        "            loss.backward()               # backward pass (compute parameter updates)\n",
        "            optimizer.step()              # make the updates for each parameter\n",
        "            optimizer.zero_grad()         # a clean up step for PyTorch\n",
        "\n",
        "            # save the current training information\n",
        "            iters.append(n)\n",
        "            losses.append(float(loss)/batch_size)             # compute *average* loss\n",
        "            train_acc.append(get_accuracy(model,train_loader, train=True)) # compute training accuracy\n",
        "           # val_acc.append(get_accuracy(model, train=False))  # compute validation accuracy\n",
        "            n += 1\n",
        "#Need to keep validation and trianing sep\n",
        "        for samples, labels in iter(val_loader):\n",
        "           val_acc.append(get_accuracy(model,val_loader, train=False))  # compute validation accuracy\n",
        "\n",
        "\n",
        "    # plotting\n",
        "    plt.title(\"Training Curve\")\n",
        "    plt.plot(iters, losses, label=\"Train\")\n",
        "    plt.xlabel(\"Iterations\")\n",
        "    plt.ylabel(\"Loss\")\n",
        "    plt.show()\n",
        "\n",
        "    plt.title(\"Training Curve\")\n",
        "    plt.plot(iters, train_acc, label=\"Train\")\n",
        "    plt.plot(iters, val_acc, label=\"Validation\")\n",
        "    plt.xlabel(\"Iterations\")\n",
        "    plt.ylabel(\"Training Accuracy\")\n",
        "    plt.legend(loc='best')\n",
        "    plt.show()\n",
        "\n",
        "    print(\"Final Training Accuracy: {}\".format(train_acc[-1]))\n",
        "    print(\"Final Validation Accuracy: {}\".format(val_acc[-1]))\n",
        "\n",
        "\n"
      ],
      "metadata": {
        "id": "hXOAAi9xIfhI"
      },
      "execution_count": null,
      "outputs": []
    },
    {
      "cell_type": "code",
      "source": [],
      "metadata": {
        "id": "JVs-juGx9rH9"
      },
      "execution_count": null,
      "outputs": []
    },
    {
      "cell_type": "code",
      "source": [
        "import torch\n",
        "import torch.nn as nn\n",
        "import torch.optim as optim\n",
        "import matplotlib.pyplot as plt\n",
        "\n",
        "\n",
        "\n",
        "\n",
        "def get_accuracy(model, data_loader, device):\n",
        "    model.eval()\n",
        "    correct, total = 0, 0\n",
        "    with torch.no_grad():\n",
        "        for features, labels in data_loader:\n",
        "            features = features.to(device)\n",
        "            labels = labels.to(device)\n",
        "            outputs = model(features)\n",
        "            preds = torch.argmax(outputs, dim=1)\n",
        "            correct += (preds == labels).sum().item()\n",
        "            total += labels.size(0)\n",
        "    model.train()\n",
        "    return correct / total\n",
        "\n",
        "def train(model, dataTrain, dataVal, batch_size=64, num_epochs=10):\n",
        "    # Detect device and incorporate cuda for faster training\n",
        "    device = torch.device(\"cuda\" if torch.cuda.is_available() else \"cpu\")\n",
        "    model.to(device)\n",
        "\n",
        "    train_loader = torch.utils.data.DataLoader(dataTrain, batch_size=batch_size, shuffle=True)\n",
        "    val_loader = torch.utils.data.DataLoader(dataVal, batch_size=batch_size)\n",
        "\n",
        "\n",
        "    criterion = nn.CrossEntropyLoss()\n",
        "    optimizer = optim.SGD(model.parameters(), lr=0.01, momentum=0.9)\n",
        "\n",
        "    iters, losses, train_acc, val_acc = [], [], [], []\n",
        "\n",
        "    n = 0\n",
        "    for epoch in range(num_epochs):\n",
        "        for features, labels in train_loader:\n",
        "            features = features.to(device)\n",
        "            labels = labels.to(device)\n",
        "\n",
        "            optimizer.zero_grad()\n",
        "            outputs = model(features)\n",
        "            loss = criterion(outputs, labels)\n",
        "            loss.backward()\n",
        "            optimizer.step()\n",
        "\n",
        "            # Save metrics every 10 iterations\n",
        "            if n % 10 == 0:\n",
        "                iters.append(n)\n",
        "                losses.append(loss.item())\n",
        "\n",
        "            n += 1\n",
        "\n",
        "        # Evaluate at end of each epoch\n",
        "        train_acc.append(get_accuracy(model, train_loader, device))\n",
        "        val_acc.append(get_accuracy(model, val_loader, device))\n",
        "\n",
        "        print(f\"Epoch {epoch+1}: Train Acc = {train_acc[-1]:.4f}, Val Acc = {val_acc[-1]:.4f}\")\n",
        "\n",
        "    # Plot Loss\n",
        "    plt.title(\"Loss Curve\")\n",
        "    plt.plot(iters, losses, label=\"Train Loss\")\n",
        "    plt.xlabel(\"Iterations\")\n",
        "    plt.ylabel(\"Loss\")\n",
        "    plt.legend()\n",
        "    plt.show()\n",
        "\n",
        "    # Plot Accuracy\n",
        "    plt.title(\"Accuracy Curve\")\n",
        "    plt.plot(range(num_epochs), train_acc, label=\"Train\")\n",
        "    plt.plot(range(num_epochs), val_acc, label=\"Validation\")\n",
        "    plt.xlabel(\"Epochs\")\n",
        "    plt.ylabel(\"Accuracy\")\n",
        "    plt.legend()\n",
        "    plt.show()\n",
        "\n",
        "    print(f\"Final Training Accuracy: {train_acc[-1]:.4f}\")\n",
        "    print(f\"Final Validation Accuracy: {val_acc[-1]:.4f}\")\n"
      ],
      "metadata": {
        "id": "MiE1W3in9BE3"
      },
      "execution_count": null,
      "outputs": []
    },
    {
      "cell_type": "code",
      "source": [
        "\n",
        "data_path = '/content/drive/MyDrive/APS360/featureSave/'\n",
        "\n",
        "#ACCESS FEAT\n",
        "#Separate files for labels\n",
        "#Separate for labels\n",
        "X_train = np.load(data_path + \"train_bert_features.npy\")\n",
        "y_train = np.load(data_path + \"train_labels.npy\")\n",
        "\n",
        "\n",
        "\n",
        "\n",
        "X_val = np.load(data_path + \"val_bert_features.npy\")\n",
        "y_val = np.load(data_path + \"val_labels.npy\")\n",
        "\n",
        "\n"
      ],
      "metadata": {
        "id": "eRmY-MNe9vCT"
      },
      "execution_count": null,
      "outputs": []
    },
    {
      "cell_type": "code",
      "source": [
        "from torch.utils.data import TensorDataset, DataLoader\n",
        "\n",
        "X_train_tensor = torch.tensor(X_train, dtype=torch.float32)\n",
        "y_train_tensor = torch.tensor(y_train, dtype=torch.long)\n",
        "\n",
        "X_val_tensor = torch.tensor(X_val, dtype=torch.float32)\n",
        "y_val_tensor = torch.tensor(y_val, dtype=torch.long)\n",
        "\n",
        "# Wrap in TensorDatasets and that is the form that our MLPs will be able to read\n",
        "train_dataset = TensorDataset(X_train_tensor, y_train_tensor)\n",
        "val_dataset = TensorDataset(X_val_tensor, y_val_tensor)"
      ],
      "metadata": {
        "id": "JKK3cywO90IX"
      },
      "execution_count": null,
      "outputs": []
    },
    {
      "cell_type": "code",
      "source": [
        "#Start training\n",
        "\n",
        "use_cuda = True\n",
        "\n",
        "model = MLP()\n",
        "\n",
        "if use_cuda and torch.cuda.is_available():\n",
        "  model.cuda()\n",
        "  print('CUDA is available!  Training on GPU ...')\n",
        "else:\n",
        "  print('CUDA is not available.  Training on CPU ...')\n",
        "\n",
        "train(model, train_dataset, val_dataset, batch_size=64, num_epochs=30)\n"
      ],
      "metadata": {
        "colab": {
          "base_uri": "https://localhost:8080/",
          "height": 1000
        },
        "id": "BwqgJJQl3GTp",
        "outputId": "745b506c-3aed-4278-95f8-b2e1a7598c2c"
      },
      "execution_count": null,
      "outputs": [
        {
          "output_type": "stream",
          "name": "stdout",
          "text": [
            "CUDA is available!  Training on GPU ...\n",
            "Epoch 1: Train Acc = 0.9794, Val Acc = 0.9800\n",
            "Epoch 2: Train Acc = 0.9875, Val Acc = 0.9874\n",
            "Epoch 3: Train Acc = 0.9874, Val Acc = 0.9867\n",
            "Epoch 4: Train Acc = 0.9905, Val Acc = 0.9901\n",
            "Epoch 5: Train Acc = 0.9872, Val Acc = 0.9865\n",
            "Epoch 6: Train Acc = 0.9934, Val Acc = 0.9915\n",
            "Epoch 7: Train Acc = 0.9905, Val Acc = 0.9873\n",
            "Epoch 8: Train Acc = 0.9936, Val Acc = 0.9917\n",
            "Epoch 9: Train Acc = 0.9946, Val Acc = 0.9929\n",
            "Epoch 10: Train Acc = 0.9936, Val Acc = 0.9911\n",
            "Epoch 11: Train Acc = 0.9894, Val Acc = 0.9879\n",
            "Epoch 12: Train Acc = 0.9715, Val Acc = 0.9702\n",
            "Epoch 13: Train Acc = 0.9896, Val Acc = 0.9868\n",
            "Epoch 14: Train Acc = 0.9961, Val Acc = 0.9931\n",
            "Epoch 15: Train Acc = 0.9959, Val Acc = 0.9923\n",
            "Epoch 16: Train Acc = 0.9970, Val Acc = 0.9929\n",
            "Epoch 17: Train Acc = 0.9961, Val Acc = 0.9932\n",
            "Epoch 18: Train Acc = 0.9978, Val Acc = 0.9944\n",
            "Epoch 19: Train Acc = 0.9976, Val Acc = 0.9939\n",
            "Epoch 20: Train Acc = 0.9979, Val Acc = 0.9939\n",
            "Epoch 21: Train Acc = 0.9983, Val Acc = 0.9946\n",
            "Epoch 22: Train Acc = 0.9953, Val Acc = 0.9912\n",
            "Epoch 23: Train Acc = 0.9967, Val Acc = 0.9937\n",
            "Epoch 24: Train Acc = 0.9978, Val Acc = 0.9938\n",
            "Epoch 25: Train Acc = 0.9963, Val Acc = 0.9925\n",
            "Epoch 26: Train Acc = 0.9985, Val Acc = 0.9952\n",
            "Epoch 27: Train Acc = 0.9972, Val Acc = 0.9939\n",
            "Epoch 28: Train Acc = 0.9966, Val Acc = 0.9938\n",
            "Epoch 29: Train Acc = 0.9991, Val Acc = 0.9950\n",
            "Epoch 30: Train Acc = 0.9981, Val Acc = 0.9943\n"
          ]
        },
        {
          "output_type": "display_data",
          "data": {
            "text/plain": [
              "<Figure size 640x480 with 1 Axes>"
            ],
            "image/png": "[encoded data removed]"
          },
          "metadata": {}
        },
        {
          "output_type": "display_data",
          "data": {
            "text/plain": [
              "<Figure size 640x480 with 1 Axes>"
            ],
            "image/png": "[encoded data removed]"
          },
          "metadata": {}
        },
        {
          "output_type": "stream",
          "name": "stdout",
          "text": [
            "Final Training Accuracy: 0.9981\n",
            "Final Validation Accuracy: 0.9943\n"
          ]
        }
      ]
    }
  ]
}